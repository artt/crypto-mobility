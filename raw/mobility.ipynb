{
 "cells": [
  {
   "cell_type": "code",
   "execution_count": 2,
   "metadata": {},
   "outputs": [],
   "source": [
    "import pandas as pd\n",
    "import requests"
   ]
  },
  {
   "cell_type": "code",
   "execution_count": 98,
   "metadata": {},
   "outputs": [],
   "source": [
    "r = requests.get('https://data-visualization-app.herokuapp.com/api/v1/index_edition?indexId=SMI&edition=2020')\n",
    "# get list of all the pillars + main index\n",
    "series_list = [x['globalId'] for x in r.json()[0]['value']['series_tree'][0]['children']]"
   ]
  },
  {
   "cell_type": "code",
   "execution_count": 99,
   "metadata": {},
   "outputs": [],
   "source": [
    "# initial series\n",
    "series = 'SMI'\n",
    "r = requests.get(f'https://data-visualization-app.herokuapp.com/api/v1/index_edition_data?indexId=SMI&edition=2020&seriesId={series}')\n",
    "df = pd.DataFrame.from_dict(r.json()[0]['value']['entries'], orient=\"index\")[['dtf']].drop(['AVG', 'LMC', 'UMC', \"HIC\"]).rename(columns={'dtf': series})"
   ]
  },
  {
   "cell_type": "code",
   "execution_count": 100,
   "metadata": {},
   "outputs": [],
   "source": [
    "for series in series_list:\n",
    "  r = requests.get(f'https://data-visualization-app.herokuapp.com/api/v1/index_edition_data?indexId=SMI&edition=2020&seriesId={series}')\n",
    "  df[series] = pd.DataFrame.from_dict(r.json()[0]['value']['entries'], orient=\"index\")['dtf'].drop(['AVG', 'LMC', 'UMC', \"HIC\"])"
   ]
  },
  {
   "cell_type": "code",
   "execution_count": 101,
   "metadata": {},
   "outputs": [],
   "source": [
    "df.columns = [\n",
    "  'smi',\n",
    "  'smi_health',\n",
    "  'smi_edu_access',\n",
    "  'smi_edu_quality',\n",
    "  'smi_learning',\n",
    "  'smi_tech_access',\n",
    "  'smi_work_opp',\n",
    "  'smi_wage_dist',\n",
    "  'smi_work_cond',\n",
    "  'smi_social_resilience',\n",
    "  'smi_institutions'\n",
    "]"
   ]
  },
  {
   "cell_type": "code",
   "execution_count": 102,
   "metadata": {},
   "outputs": [],
   "source": [
    "df = df.astype(float)\n",
    "df.to_stata('smi.dta')"
   ]
  },
  {
   "cell_type": "code",
   "execution_count": null,
   "metadata": {},
   "outputs": [],
   "source": []
  }
 ],
 "metadata": {
  "kernelspec": {
   "display_name": "Python 3.10.2 ('home')",
   "language": "python",
   "name": "python3"
  },
  "language_info": {
   "codemirror_mode": {
    "name": "ipython",
    "version": 3
   },
   "file_extension": ".py",
   "mimetype": "text/x-python",
   "name": "python",
   "nbconvert_exporter": "python",
   "pygments_lexer": "ipython3",
   "version": "3.10.2"
  },
  "orig_nbformat": 4,
  "vscode": {
   "interpreter": {
    "hash": "c863d41d3012073f8c72f956cde63d037ecdd83143035929349078b5da968957"
   }
  }
 },
 "nbformat": 4,
 "nbformat_minor": 2
}
